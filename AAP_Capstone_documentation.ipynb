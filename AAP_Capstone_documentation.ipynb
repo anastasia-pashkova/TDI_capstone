{
 "cells": [
  {
   "cell_type": "markdown",
   "metadata": {},
   "source": [
    "# Measuring Productivity Impact of a 4-day Workweek"
   ]
  },
  {
   "cell_type": "markdown",
   "metadata": {},
   "source": [
    "## Motivation"
   ]
  },
  {
   "cell_type": "markdown",
   "metadata": {},
   "source": [
    "With great resignation, many companies are looking for a way to attract and retain talented candidates.\n",
    "One of the attractive ideas is a 4-day workweek. We want to explore the impact on productivity when comparing 4-day vs 5-day workweek.\n",
    "\n",
    "In summer 2021, GitHub had a pilot program, company-wide for 6 weeks, employees worked 4 days a week Monday - Thursday.\n",
    "This was a [publically known](https://news.ycombinator.com/item?id=27744405)\n",
    "Productivity is often hard to measure. Even a regular developer, spends time not just writing code, but also reviewing code of others, filing bugs, writing project proposals, or breaking down bigger projects into granular parts. What makes GitHub especially unique is that all of the above is tracked in contributions. Almost any unit of work, including takeaways from meetings, are tracked in repos and contributions. For the analysis here, we will use contributions as the proxy of productivity."
   ]
  },
  {
   "cell_type": "markdown",
   "metadata": {},
   "source": [
    "![github_daysoff](images/github_days_off.png)"
   ]
  },
  {
   "cell_type": "markdown",
   "metadata": {},
   "source": []
  },
  {
   "cell_type": "markdown",
   "metadata": {},
   "source": [
    "![cumilitive_contrib](images/cumulitive_company_contributions.png)"
   ]
  },
  {
   "cell_type": "markdown",
   "metadata": {},
   "source": [
    "## Assumptions"
   ]
  },
  {
   "cell_type": "markdown",
   "metadata": {},
   "source": [
    "- weeks are cut Monday -> Sunday (for easier accounting)\n",
    "- filter out any weeks, where number of contributions was <=2, implying person was out that week\n",
    "- filter out Jan - would use it to test our data"
   ]
  },
  {
   "cell_type": "markdown",
   "metadata": {},
   "source": [
    "# Statistical Analysis"
   ]
  },
  {
   "cell_type": "code",
   "execution_count": null,
   "metadata": {},
   "outputs": [],
   "source": []
  },
  {
   "cell_type": "markdown",
   "metadata": {},
   "source": [
    "# "
   ]
  },
  {
   "cell_type": "code",
   "execution_count": null,
   "metadata": {},
   "outputs": [],
   "source": []
  },
  {
   "cell_type": "code",
   "execution_count": null,
   "metadata": {},
   "outputs": [],
   "source": []
  }
 ],
 "metadata": {
  "kernelspec": {
   "display_name": "Python 3 (ipykernel)",
   "language": "python",
   "name": "python3"
  },
  "language_info": {
   "codemirror_mode": {
    "name": "ipython",
    "version": 3
   },
   "file_extension": ".py",
   "mimetype": "text/x-python",
   "name": "python",
   "nbconvert_exporter": "python",
   "pygments_lexer": "ipython3",
   "version": "3.9.7"
  }
 },
 "nbformat": 4,
 "nbformat_minor": 4
}
