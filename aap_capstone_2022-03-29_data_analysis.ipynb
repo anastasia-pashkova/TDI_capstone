{
 "cells": [
  {
   "cell_type": "code",
   "execution_count": 33,
   "metadata": {},
   "outputs": [],
   "source": [
    "import datetime\n",
    "import seaborn as sns\n",
    "sns.set()\n",
    "import matplotlib.pyplot as plt\n",
    "import numpy as np\n",
    "import pandas as pd\n",
    "import matplotlib.dates as mdates\n",
    "from scipy.stats import ttest_ind"
   ]
  },
  {
   "cell_type": "code",
   "execution_count": 34,
   "metadata": {},
   "outputs": [
    {
     "name": "stdout",
     "output_type": "stream",
     "text": [
      "<class 'pandas.core.frame.DataFrame'>\n",
      "RangeIndex: 94170 entries, 0 to 94169\n",
      "Data columns (total 3 columns):\n",
      " #   Column    Non-Null Count  Dtype         \n",
      "---  ------    --------------  -----         \n",
      " 0   username  94170 non-null  object        \n",
      " 1   count     94170 non-null  int64         \n",
      " 2   date      94170 non-null  datetime64[ns]\n",
      "dtypes: datetime64[ns](1), int64(1), object(1)\n",
      "memory usage: 2.2+ MB\n"
     ]
    }
   ],
   "source": [
    "df = pd.read_csv('contributions-github-20220202-124509_full.csv', parse_dates=['date'], low_memory=False)\n",
    "df.info()"
   ]
  },
  {
   "cell_type": "code",
   "execution_count": 36,
   "metadata": {},
   "outputs": [
    {
     "data": {
      "text/plain": [
       "(94170, 3)"
      ]
     },
     "execution_count": 36,
     "metadata": {},
     "output_type": "execute_result"
    }
   ],
   "source": [
    "df.shape"
   ]
  },
  {
   "cell_type": "code",
   "execution_count": 37,
   "metadata": {},
   "outputs": [
    {
     "data": {
      "text/plain": [
       "username            object\n",
       "count                int64\n",
       "date        datetime64[ns]\n",
       "dtype: object"
      ]
     },
     "execution_count": 37,
     "metadata": {},
     "output_type": "execute_result"
    }
   ],
   "source": [
    "df.dtypes"
   ]
  },
  {
   "cell_type": "code",
   "execution_count": 38,
   "metadata": {},
   "outputs": [
    {
     "data": {
      "text/html": [
       "<div>\n",
       "<style scoped>\n",
       "    .dataframe tbody tr th:only-of-type {\n",
       "        vertical-align: middle;\n",
       "    }\n",
       "\n",
       "    .dataframe tbody tr th {\n",
       "        vertical-align: top;\n",
       "    }\n",
       "\n",
       "    .dataframe thead th {\n",
       "        text-align: right;\n",
       "    }\n",
       "</style>\n",
       "<table border=\"1\" class=\"dataframe\">\n",
       "  <thead>\n",
       "    <tr style=\"text-align: right;\">\n",
       "      <th></th>\n",
       "      <th>username</th>\n",
       "      <th>count</th>\n",
       "      <th>date</th>\n",
       "    </tr>\n",
       "  </thead>\n",
       "  <tbody>\n",
       "    <tr>\n",
       "      <th>0</th>\n",
       "      <td>aashah</td>\n",
       "      <td>0</td>\n",
       "      <td>2021-01-01</td>\n",
       "    </tr>\n",
       "    <tr>\n",
       "      <th>1</th>\n",
       "      <td>aashah</td>\n",
       "      <td>0</td>\n",
       "      <td>2021-01-02</td>\n",
       "    </tr>\n",
       "    <tr>\n",
       "      <th>2</th>\n",
       "      <td>aashah</td>\n",
       "      <td>0</td>\n",
       "      <td>2021-01-03</td>\n",
       "    </tr>\n",
       "    <tr>\n",
       "      <th>3</th>\n",
       "      <td>aashah</td>\n",
       "      <td>0</td>\n",
       "      <td>2021-01-04</td>\n",
       "    </tr>\n",
       "    <tr>\n",
       "      <th>4</th>\n",
       "      <td>aashah</td>\n",
       "      <td>7</td>\n",
       "      <td>2021-01-05</td>\n",
       "    </tr>\n",
       "    <tr>\n",
       "      <th>5</th>\n",
       "      <td>aashah</td>\n",
       "      <td>11</td>\n",
       "      <td>2021-01-06</td>\n",
       "    </tr>\n",
       "    <tr>\n",
       "      <th>6</th>\n",
       "      <td>aashah</td>\n",
       "      <td>5</td>\n",
       "      <td>2021-01-07</td>\n",
       "    </tr>\n",
       "    <tr>\n",
       "      <th>7</th>\n",
       "      <td>aashah</td>\n",
       "      <td>8</td>\n",
       "      <td>2021-01-08</td>\n",
       "    </tr>\n",
       "    <tr>\n",
       "      <th>8</th>\n",
       "      <td>aashah</td>\n",
       "      <td>0</td>\n",
       "      <td>2021-01-09</td>\n",
       "    </tr>\n",
       "    <tr>\n",
       "      <th>9</th>\n",
       "      <td>aashah</td>\n",
       "      <td>0</td>\n",
       "      <td>2021-01-10</td>\n",
       "    </tr>\n",
       "    <tr>\n",
       "      <th>10</th>\n",
       "      <td>aashah</td>\n",
       "      <td>3</td>\n",
       "      <td>2021-01-11</td>\n",
       "    </tr>\n",
       "    <tr>\n",
       "      <th>11</th>\n",
       "      <td>aashah</td>\n",
       "      <td>5</td>\n",
       "      <td>2021-01-12</td>\n",
       "    </tr>\n",
       "    <tr>\n",
       "      <th>12</th>\n",
       "      <td>aashah</td>\n",
       "      <td>12</td>\n",
       "      <td>2021-01-13</td>\n",
       "    </tr>\n",
       "    <tr>\n",
       "      <th>13</th>\n",
       "      <td>aashah</td>\n",
       "      <td>21</td>\n",
       "      <td>2021-01-14</td>\n",
       "    </tr>\n",
       "    <tr>\n",
       "      <th>14</th>\n",
       "      <td>aashah</td>\n",
       "      <td>20</td>\n",
       "      <td>2021-01-15</td>\n",
       "    </tr>\n",
       "    <tr>\n",
       "      <th>15</th>\n",
       "      <td>aashah</td>\n",
       "      <td>0</td>\n",
       "      <td>2021-01-16</td>\n",
       "    </tr>\n",
       "    <tr>\n",
       "      <th>16</th>\n",
       "      <td>aashah</td>\n",
       "      <td>0</td>\n",
       "      <td>2021-01-17</td>\n",
       "    </tr>\n",
       "    <tr>\n",
       "      <th>17</th>\n",
       "      <td>aashah</td>\n",
       "      <td>0</td>\n",
       "      <td>2021-01-18</td>\n",
       "    </tr>\n",
       "    <tr>\n",
       "      <th>18</th>\n",
       "      <td>aashah</td>\n",
       "      <td>5</td>\n",
       "      <td>2021-01-19</td>\n",
       "    </tr>\n",
       "    <tr>\n",
       "      <th>19</th>\n",
       "      <td>aashah</td>\n",
       "      <td>6</td>\n",
       "      <td>2021-01-20</td>\n",
       "    </tr>\n",
       "  </tbody>\n",
       "</table>\n",
       "</div>"
      ],
      "text/plain": [
       "   username  count       date\n",
       "0    aashah      0 2021-01-01\n",
       "1    aashah      0 2021-01-02\n",
       "2    aashah      0 2021-01-03\n",
       "3    aashah      0 2021-01-04\n",
       "4    aashah      7 2021-01-05\n",
       "5    aashah     11 2021-01-06\n",
       "6    aashah      5 2021-01-07\n",
       "7    aashah      8 2021-01-08\n",
       "8    aashah      0 2021-01-09\n",
       "9    aashah      0 2021-01-10\n",
       "10   aashah      3 2021-01-11\n",
       "11   aashah      5 2021-01-12\n",
       "12   aashah     12 2021-01-13\n",
       "13   aashah     21 2021-01-14\n",
       "14   aashah     20 2021-01-15\n",
       "15   aashah      0 2021-01-16\n",
       "16   aashah      0 2021-01-17\n",
       "17   aashah      0 2021-01-18\n",
       "18   aashah      5 2021-01-19\n",
       "19   aashah      6 2021-01-20"
      ]
     },
     "execution_count": 38,
     "metadata": {},
     "output_type": "execute_result"
    }
   ],
   "source": [
    "df.head(20)"
   ]
  },
  {
   "cell_type": "code",
   "execution_count": 39,
   "metadata": {},
   "outputs": [],
   "source": [
    "df_user1 = df.loc[df['username'] == 'domofactor']"
   ]
  },
  {
   "cell_type": "code",
   "execution_count": 41,
   "metadata": {},
   "outputs": [],
   "source": [
    "# resampled weekly and monthly\n",
    "df_user1_weekly = df_user1.resample('W-MON', on='date').sum()\n",
    "df_user1_monthly = df_user1.resample('M', on='date').sum()"
   ]
  },
  {
   "cell_type": "code",
   "execution_count": 43,
   "metadata": {},
   "outputs": [
    {
     "data": {
      "image/png": "[encoded data removed]",
      "text/plain": [
       "<Figure size 432x288 with 1 Axes>"
      ]
     },
     "metadata": {},
     "output_type": "display_data"
    }
   ],
   "source": [
    "# Single User contributions\n",
    "user1_barplot_weekly = sns.barplot(x =df_user1_weekly.index, y = \"count\", data = df_user1_weekly, color='b')\n",
    "plt.xticks(rotation=90)\n",
    "\n",
    "user1_barplot_weekly.xaxis.set_major_locator(mdates.DayLocator(interval=4))\n",
    "# user1_barplot_weekly.xaxis.set_major_formatter(mdates.DateFormatter('%Y-%m-%d')) \n",
    "\n",
    "plt.show()"
   ]
  },
  {
   "cell_type": "code",
   "execution_count": 44,
   "metadata": {},
   "outputs": [
    {
     "data": {
      "text/html": [
       "<div>\n",
       "<style scoped>\n",
       "    .dataframe tbody tr th:only-of-type {\n",
       "        vertical-align: middle;\n",
       "    }\n",
       "\n",
       "    .dataframe tbody tr th {\n",
       "        vertical-align: top;\n",
       "    }\n",
       "\n",
       "    .dataframe thead th {\n",
       "        text-align: right;\n",
       "    }\n",
       "</style>\n",
       "<table border=\"1\" class=\"dataframe\">\n",
       "  <thead>\n",
       "    <tr style=\"text-align: right;\">\n",
       "      <th></th>\n",
       "      <th>count</th>\n",
       "    </tr>\n",
       "    <tr>\n",
       "      <th>date</th>\n",
       "      <th></th>\n",
       "    </tr>\n",
       "  </thead>\n",
       "  <tbody>\n",
       "    <tr>\n",
       "      <th>2021-01-04</th>\n",
       "      <td>1</td>\n",
       "    </tr>\n",
       "    <tr>\n",
       "      <th>2021-01-11</th>\n",
       "      <td>12</td>\n",
       "    </tr>\n",
       "    <tr>\n",
       "      <th>2021-01-18</th>\n",
       "      <td>16</td>\n",
       "    </tr>\n",
       "    <tr>\n",
       "      <th>2021-01-25</th>\n",
       "      <td>26</td>\n",
       "    </tr>\n",
       "    <tr>\n",
       "      <th>2021-02-01</th>\n",
       "      <td>43</td>\n",
       "    </tr>\n",
       "    <tr>\n",
       "      <th>2021-02-08</th>\n",
       "      <td>29</td>\n",
       "    </tr>\n",
       "    <tr>\n",
       "      <th>2021-02-15</th>\n",
       "      <td>53</td>\n",
       "    </tr>\n",
       "    <tr>\n",
       "      <th>2021-02-22</th>\n",
       "      <td>18</td>\n",
       "    </tr>\n",
       "    <tr>\n",
       "      <th>2021-03-01</th>\n",
       "      <td>30</td>\n",
       "    </tr>\n",
       "    <tr>\n",
       "      <th>2021-03-08</th>\n",
       "      <td>37</td>\n",
       "    </tr>\n",
       "    <tr>\n",
       "      <th>2021-03-15</th>\n",
       "      <td>45</td>\n",
       "    </tr>\n",
       "    <tr>\n",
       "      <th>2021-03-22</th>\n",
       "      <td>14</td>\n",
       "    </tr>\n",
       "    <tr>\n",
       "      <th>2021-03-29</th>\n",
       "      <td>34</td>\n",
       "    </tr>\n",
       "    <tr>\n",
       "      <th>2021-04-05</th>\n",
       "      <td>135</td>\n",
       "    </tr>\n",
       "    <tr>\n",
       "      <th>2021-04-12</th>\n",
       "      <td>30</td>\n",
       "    </tr>\n",
       "    <tr>\n",
       "      <th>2021-04-19</th>\n",
       "      <td>6</td>\n",
       "    </tr>\n",
       "    <tr>\n",
       "      <th>2021-04-26</th>\n",
       "      <td>23</td>\n",
       "    </tr>\n",
       "    <tr>\n",
       "      <th>2021-05-03</th>\n",
       "      <td>11</td>\n",
       "    </tr>\n",
       "    <tr>\n",
       "      <th>2021-05-10</th>\n",
       "      <td>4</td>\n",
       "    </tr>\n",
       "    <tr>\n",
       "      <th>2021-05-17</th>\n",
       "      <td>13</td>\n",
       "    </tr>\n",
       "  </tbody>\n",
       "</table>\n",
       "</div>"
      ],
      "text/plain": [
       "            count\n",
       "date             \n",
       "2021-01-04      1\n",
       "2021-01-11     12\n",
       "2021-01-18     16\n",
       "2021-01-25     26\n",
       "2021-02-01     43\n",
       "2021-02-08     29\n",
       "2021-02-15     53\n",
       "2021-02-22     18\n",
       "2021-03-01     30\n",
       "2021-03-08     37\n",
       "2021-03-15     45\n",
       "2021-03-22     14\n",
       "2021-03-29     34\n",
       "2021-04-05    135\n",
       "2021-04-12     30\n",
       "2021-04-19      6\n",
       "2021-04-26     23\n",
       "2021-05-03     11\n",
       "2021-05-10      4\n",
       "2021-05-17     13"
      ]
     },
     "execution_count": 44,
     "metadata": {},
     "output_type": "execute_result"
    }
   ],
   "source": [
    "df_user1_weekly.head(20)"
   ]
  },
  {
   "cell_type": "code",
   "execution_count": 45,
   "metadata": {},
   "outputs": [
    {
     "data": {
      "image/png": "[encoded data removed]",
      "text/plain": [
       "<Figure size 432x288 with 1 Axes>"
      ]
     },
     "metadata": {},
     "output_type": "display_data"
    }
   ],
   "source": [
    "user1_barplot_monthly = sns.barplot(x =df_user1_monthly.index, y = \"count\", data = df_user1_monthly, color='b')\n",
    "plt.xticks(rotation=90)\n",
    "\n",
    "plt.show()"
   ]
  },
  {
   "cell_type": "code",
   "execution_count": 46,
   "metadata": {},
   "outputs": [
    {
     "data": {
      "text/html": [
       "<div>\n",
       "<style scoped>\n",
       "    .dataframe tbody tr th:only-of-type {\n",
       "        vertical-align: middle;\n",
       "    }\n",
       "\n",
       "    .dataframe tbody tr th {\n",
       "        vertical-align: top;\n",
       "    }\n",
       "\n",
       "    .dataframe thead th {\n",
       "        text-align: right;\n",
       "    }\n",
       "</style>\n",
       "<table border=\"1\" class=\"dataframe\">\n",
       "  <thead>\n",
       "    <tr style=\"text-align: right;\">\n",
       "      <th></th>\n",
       "      <th>count</th>\n",
       "    </tr>\n",
       "    <tr>\n",
       "      <th>date</th>\n",
       "      <th></th>\n",
       "    </tr>\n",
       "  </thead>\n",
       "  <tbody>\n",
       "    <tr>\n",
       "      <th>2021-01-04</th>\n",
       "      <td>1</td>\n",
       "    </tr>\n",
       "    <tr>\n",
       "      <th>2021-01-11</th>\n",
       "      <td>12</td>\n",
       "    </tr>\n",
       "    <tr>\n",
       "      <th>2021-01-18</th>\n",
       "      <td>16</td>\n",
       "    </tr>\n",
       "    <tr>\n",
       "      <th>2021-01-25</th>\n",
       "      <td>26</td>\n",
       "    </tr>\n",
       "    <tr>\n",
       "      <th>2021-02-01</th>\n",
       "      <td>43</td>\n",
       "    </tr>\n",
       "    <tr>\n",
       "      <th>2021-02-08</th>\n",
       "      <td>29</td>\n",
       "    </tr>\n",
       "    <tr>\n",
       "      <th>2021-02-15</th>\n",
       "      <td>53</td>\n",
       "    </tr>\n",
       "    <tr>\n",
       "      <th>2021-02-22</th>\n",
       "      <td>18</td>\n",
       "    </tr>\n",
       "    <tr>\n",
       "      <th>2021-03-01</th>\n",
       "      <td>30</td>\n",
       "    </tr>\n",
       "    <tr>\n",
       "      <th>2021-03-08</th>\n",
       "      <td>37</td>\n",
       "    </tr>\n",
       "    <tr>\n",
       "      <th>2021-03-15</th>\n",
       "      <td>45</td>\n",
       "    </tr>\n",
       "    <tr>\n",
       "      <th>2021-03-22</th>\n",
       "      <td>14</td>\n",
       "    </tr>\n",
       "    <tr>\n",
       "      <th>2021-03-29</th>\n",
       "      <td>34</td>\n",
       "    </tr>\n",
       "    <tr>\n",
       "      <th>2021-04-05</th>\n",
       "      <td>135</td>\n",
       "    </tr>\n",
       "    <tr>\n",
       "      <th>2021-04-12</th>\n",
       "      <td>30</td>\n",
       "    </tr>\n",
       "    <tr>\n",
       "      <th>2021-04-19</th>\n",
       "      <td>6</td>\n",
       "    </tr>\n",
       "    <tr>\n",
       "      <th>2021-04-26</th>\n",
       "      <td>23</td>\n",
       "    </tr>\n",
       "    <tr>\n",
       "      <th>2021-05-03</th>\n",
       "      <td>11</td>\n",
       "    </tr>\n",
       "    <tr>\n",
       "      <th>2021-05-10</th>\n",
       "      <td>4</td>\n",
       "    </tr>\n",
       "    <tr>\n",
       "      <th>2021-05-17</th>\n",
       "      <td>13</td>\n",
       "    </tr>\n",
       "    <tr>\n",
       "      <th>2021-05-24</th>\n",
       "      <td>16</td>\n",
       "    </tr>\n",
       "    <tr>\n",
       "      <th>2021-05-31</th>\n",
       "      <td>6</td>\n",
       "    </tr>\n",
       "    <tr>\n",
       "      <th>2021-06-07</th>\n",
       "      <td>2</td>\n",
       "    </tr>\n",
       "    <tr>\n",
       "      <th>2021-06-14</th>\n",
       "      <td>8</td>\n",
       "    </tr>\n",
       "    <tr>\n",
       "      <th>2021-06-21</th>\n",
       "      <td>20</td>\n",
       "    </tr>\n",
       "    <tr>\n",
       "      <th>2021-06-28</th>\n",
       "      <td>30</td>\n",
       "    </tr>\n",
       "    <tr>\n",
       "      <th>2021-07-05</th>\n",
       "      <td>15</td>\n",
       "    </tr>\n",
       "    <tr>\n",
       "      <th>2021-07-12</th>\n",
       "      <td>1</td>\n",
       "    </tr>\n",
       "    <tr>\n",
       "      <th>2021-07-19</th>\n",
       "      <td>10</td>\n",
       "    </tr>\n",
       "    <tr>\n",
       "      <th>2021-07-26</th>\n",
       "      <td>8</td>\n",
       "    </tr>\n",
       "    <tr>\n",
       "      <th>2021-08-02</th>\n",
       "      <td>25</td>\n",
       "    </tr>\n",
       "    <tr>\n",
       "      <th>2021-08-09</th>\n",
       "      <td>32</td>\n",
       "    </tr>\n",
       "    <tr>\n",
       "      <th>2021-08-16</th>\n",
       "      <td>8</td>\n",
       "    </tr>\n",
       "    <tr>\n",
       "      <th>2021-08-23</th>\n",
       "      <td>14</td>\n",
       "    </tr>\n",
       "    <tr>\n",
       "      <th>2021-08-30</th>\n",
       "      <td>35</td>\n",
       "    </tr>\n",
       "    <tr>\n",
       "      <th>2021-09-06</th>\n",
       "      <td>14</td>\n",
       "    </tr>\n",
       "    <tr>\n",
       "      <th>2021-09-13</th>\n",
       "      <td>23</td>\n",
       "    </tr>\n",
       "    <tr>\n",
       "      <th>2021-09-20</th>\n",
       "      <td>45</td>\n",
       "    </tr>\n",
       "    <tr>\n",
       "      <th>2021-09-27</th>\n",
       "      <td>20</td>\n",
       "    </tr>\n",
       "    <tr>\n",
       "      <th>2021-10-04</th>\n",
       "      <td>28</td>\n",
       "    </tr>\n",
       "    <tr>\n",
       "      <th>2021-10-11</th>\n",
       "      <td>32</td>\n",
       "    </tr>\n",
       "    <tr>\n",
       "      <th>2021-10-18</th>\n",
       "      <td>70</td>\n",
       "    </tr>\n",
       "    <tr>\n",
       "      <th>2021-10-25</th>\n",
       "      <td>56</td>\n",
       "    </tr>\n",
       "    <tr>\n",
       "      <th>2021-11-01</th>\n",
       "      <td>45</td>\n",
       "    </tr>\n",
       "    <tr>\n",
       "      <th>2021-11-08</th>\n",
       "      <td>7</td>\n",
       "    </tr>\n",
       "    <tr>\n",
       "      <th>2021-11-15</th>\n",
       "      <td>15</td>\n",
       "    </tr>\n",
       "    <tr>\n",
       "      <th>2021-11-22</th>\n",
       "      <td>22</td>\n",
       "    </tr>\n",
       "    <tr>\n",
       "      <th>2021-11-29</th>\n",
       "      <td>43</td>\n",
       "    </tr>\n",
       "    <tr>\n",
       "      <th>2021-12-06</th>\n",
       "      <td>41</td>\n",
       "    </tr>\n",
       "    <tr>\n",
       "      <th>2021-12-13</th>\n",
       "      <td>84</td>\n",
       "    </tr>\n",
       "    <tr>\n",
       "      <th>2021-12-20</th>\n",
       "      <td>59</td>\n",
       "    </tr>\n",
       "    <tr>\n",
       "      <th>2021-12-27</th>\n",
       "      <td>0</td>\n",
       "    </tr>\n",
       "    <tr>\n",
       "      <th>2022-01-03</th>\n",
       "      <td>0</td>\n",
       "    </tr>\n",
       "  </tbody>\n",
       "</table>\n",
       "</div>"
      ],
      "text/plain": [
       "            count\n",
       "date             \n",
       "2021-01-04      1\n",
       "2021-01-11     12\n",
       "2021-01-18     16\n",
       "2021-01-25     26\n",
       "2021-02-01     43\n",
       "2021-02-08     29\n",
       "2021-02-15     53\n",
       "2021-02-22     18\n",
       "2021-03-01     30\n",
       "2021-03-08     37\n",
       "2021-03-15     45\n",
       "2021-03-22     14\n",
       "2021-03-29     34\n",
       "2021-04-05    135\n",
       "2021-04-12     30\n",
       "2021-04-19      6\n",
       "2021-04-26     23\n",
       "2021-05-03     11\n",
       "2021-05-10      4\n",
       "2021-05-17     13\n",
       "2021-05-24     16\n",
       "2021-05-31      6\n",
       "2021-06-07      2\n",
       "2021-06-14      8\n",
       "2021-06-21     20\n",
       "2021-06-28     30\n",
       "2021-07-05     15\n",
       "2021-07-12      1\n",
       "2021-07-19     10\n",
       "2021-07-26      8\n",
       "2021-08-02     25\n",
       "2021-08-09     32\n",
       "2021-08-16      8\n",
       "2021-08-23     14\n",
       "2021-08-30     35\n",
       "2021-09-06     14\n",
       "2021-09-13     23\n",
       "2021-09-20     45\n",
       "2021-09-27     20\n",
       "2021-10-04     28\n",
       "2021-10-11     32\n",
       "2021-10-18     70\n",
       "2021-10-25     56\n",
       "2021-11-01     45\n",
       "2021-11-08      7\n",
       "2021-11-15     15\n",
       "2021-11-22     22\n",
       "2021-11-29     43\n",
       "2021-12-06     41\n",
       "2021-12-13     84\n",
       "2021-12-20     59\n",
       "2021-12-27      0\n",
       "2022-01-03      0"
      ]
     },
     "execution_count": 46,
     "metadata": {},
     "output_type": "execute_result"
    }
   ],
   "source": [
    "df_user1_weekly"
   ]
  },
  {
   "cell_type": "code",
   "execution_count": 47,
   "metadata": {},
   "outputs": [],
   "source": [
    "# rslt_df = dataframe[dataframe['Percentage'] > 70] # example\n",
    "\n",
    "df_user1_weekly_over2 = df_user1_weekly[df_user1_weekly['count'] > 2]"
   ]
  },
  {
   "cell_type": "code",
   "execution_count": 48,
   "metadata": {},
   "outputs": [
    {
     "data": {
      "text/plain": [
       "(53, 1)"
      ]
     },
     "execution_count": 48,
     "metadata": {},
     "output_type": "execute_result"
    }
   ],
   "source": [
    "df_user1_weekly.shape"
   ]
  },
  {
   "cell_type": "code",
   "execution_count": 49,
   "metadata": {},
   "outputs": [
    {
     "data": {
      "text/plain": [
       "(48, 1)"
      ]
     },
     "execution_count": 49,
     "metadata": {},
     "output_type": "execute_result"
    }
   ],
   "source": [
    "df_user1_weekly_over2.shape # so removed 5 rows"
   ]
  },
  {
   "cell_type": "code",
   "execution_count": 50,
   "metadata": {},
   "outputs": [
    {
     "data": {
      "text/html": [
       "<div>\n",
       "<style scoped>\n",
       "    .dataframe tbody tr th:only-of-type {\n",
       "        vertical-align: middle;\n",
       "    }\n",
       "\n",
       "    .dataframe tbody tr th {\n",
       "        vertical-align: top;\n",
       "    }\n",
       "\n",
       "    .dataframe thead th {\n",
       "        text-align: right;\n",
       "    }\n",
       "</style>\n",
       "<table border=\"1\" class=\"dataframe\">\n",
       "  <thead>\n",
       "    <tr style=\"text-align: right;\">\n",
       "      <th></th>\n",
       "      <th>count</th>\n",
       "    </tr>\n",
       "    <tr>\n",
       "      <th>date</th>\n",
       "      <th></th>\n",
       "    </tr>\n",
       "  </thead>\n",
       "  <tbody>\n",
       "    <tr>\n",
       "      <th>2021-01-04</th>\n",
       "      <td>1</td>\n",
       "    </tr>\n",
       "  </tbody>\n",
       "</table>\n",
       "</div>"
      ],
      "text/plain": [
       "            count\n",
       "date             \n",
       "2021-01-04      1"
      ]
     },
     "execution_count": 50,
     "metadata": {},
     "output_type": "execute_result"
    }
   ],
   "source": [
    "df_user1_weekly.head(1)"
   ]
  },
  {
   "cell_type": "code",
   "execution_count": 51,
   "metadata": {},
   "outputs": [
    {
     "name": "stdout",
     "output_type": "stream",
     "text": [
      "<class 'pandas.core.frame.DataFrame'>\n",
      "DatetimeIndex: 53 entries, 2021-01-04 to 2022-01-03\n",
      "Freq: W-MON\n",
      "Data columns (total 1 columns):\n",
      " #   Column  Non-Null Count  Dtype\n",
      "---  ------  --------------  -----\n",
      " 0   count   53 non-null     int64\n",
      "dtypes: int64(1)\n",
      "memory usage: 2.9 KB\n"
     ]
    }
   ],
   "source": [
    "# 2021-02-01\n",
    "\n",
    "df_user1_weekly.info()"
   ]
  },
  {
   "cell_type": "code",
   "execution_count": 32,
   "metadata": {},
   "outputs": [],
   "source": []
  },
  {
   "cell_type": "code",
   "execution_count": 52,
   "metadata": {},
   "outputs": [],
   "source": [
    "dt_feb1 = datetime.datetime(2021, 2, 1)"
   ]
  },
  {
   "cell_type": "code",
   "execution_count": 53,
   "metadata": {},
   "outputs": [
    {
     "data": {
      "text/plain": [
       "datetime.datetime(2021, 2, 1, 0, 0)"
      ]
     },
     "execution_count": 53,
     "metadata": {},
     "output_type": "execute_result"
    }
   ],
   "source": [
    "dt_feb1"
   ]
  },
  {
   "cell_type": "code",
   "execution_count": 54,
   "metadata": {},
   "outputs": [],
   "source": [
    "df_user1_weekly_jan = df_user1_weekly.loc['2020-12-31':'2021-01-31']\n",
    "# df.loc['2014-01-01':'2014-02-01']"
   ]
  },
  {
   "cell_type": "code",
   "execution_count": 55,
   "metadata": {},
   "outputs": [
    {
     "data": {
      "text/html": [
       "<div>\n",
       "<style scoped>\n",
       "    .dataframe tbody tr th:only-of-type {\n",
       "        vertical-align: middle;\n",
       "    }\n",
       "\n",
       "    .dataframe tbody tr th {\n",
       "        vertical-align: top;\n",
       "    }\n",
       "\n",
       "    .dataframe thead th {\n",
       "        text-align: right;\n",
       "    }\n",
       "</style>\n",
       "<table border=\"1\" class=\"dataframe\">\n",
       "  <thead>\n",
       "    <tr style=\"text-align: right;\">\n",
       "      <th></th>\n",
       "      <th>count</th>\n",
       "    </tr>\n",
       "    <tr>\n",
       "      <th>date</th>\n",
       "      <th></th>\n",
       "    </tr>\n",
       "  </thead>\n",
       "  <tbody>\n",
       "    <tr>\n",
       "      <th>2021-01-04</th>\n",
       "      <td>1</td>\n",
       "    </tr>\n",
       "    <tr>\n",
       "      <th>2021-01-11</th>\n",
       "      <td>12</td>\n",
       "    </tr>\n",
       "    <tr>\n",
       "      <th>2021-01-18</th>\n",
       "      <td>16</td>\n",
       "    </tr>\n",
       "    <tr>\n",
       "      <th>2021-01-25</th>\n",
       "      <td>26</td>\n",
       "    </tr>\n",
       "  </tbody>\n",
       "</table>\n",
       "</div>"
      ],
      "text/plain": [
       "            count\n",
       "date             \n",
       "2021-01-04      1\n",
       "2021-01-11     12\n",
       "2021-01-18     16\n",
       "2021-01-25     26"
      ]
     },
     "execution_count": 55,
     "metadata": {},
     "output_type": "execute_result"
    }
   ],
   "source": [
    "df_user1_weekly_jan"
   ]
  },
  {
   "cell_type": "code",
   "execution_count": 20,
   "metadata": {},
   "outputs": [],
   "source": [
    "df_user1_weekly_train_feb_jun = df_user1_weekly.loc['2021-02-01':'2021-06-30']"
   ]
  },
  {
   "cell_type": "code",
   "execution_count": 21,
   "metadata": {},
   "outputs": [
    {
     "data": {
      "text/html": [
       "<div>\n",
       "<style scoped>\n",
       "    .dataframe tbody tr th:only-of-type {\n",
       "        vertical-align: middle;\n",
       "    }\n",
       "\n",
       "    .dataframe tbody tr th {\n",
       "        vertical-align: top;\n",
       "    }\n",
       "\n",
       "    .dataframe thead th {\n",
       "        text-align: right;\n",
       "    }\n",
       "</style>\n",
       "<table border=\"1\" class=\"dataframe\">\n",
       "  <thead>\n",
       "    <tr style=\"text-align: right;\">\n",
       "      <th></th>\n",
       "      <th>count</th>\n",
       "    </tr>\n",
       "    <tr>\n",
       "      <th>date</th>\n",
       "      <th></th>\n",
       "    </tr>\n",
       "  </thead>\n",
       "  <tbody>\n",
       "    <tr>\n",
       "      <th>2021-02-01</th>\n",
       "      <td>43</td>\n",
       "    </tr>\n",
       "    <tr>\n",
       "      <th>2021-02-08</th>\n",
       "      <td>29</td>\n",
       "    </tr>\n",
       "    <tr>\n",
       "      <th>2021-02-15</th>\n",
       "      <td>53</td>\n",
       "    </tr>\n",
       "    <tr>\n",
       "      <th>2021-02-22</th>\n",
       "      <td>18</td>\n",
       "    </tr>\n",
       "    <tr>\n",
       "      <th>2021-03-01</th>\n",
       "      <td>30</td>\n",
       "    </tr>\n",
       "    <tr>\n",
       "      <th>2021-03-08</th>\n",
       "      <td>37</td>\n",
       "    </tr>\n",
       "    <tr>\n",
       "      <th>2021-03-15</th>\n",
       "      <td>45</td>\n",
       "    </tr>\n",
       "    <tr>\n",
       "      <th>2021-03-22</th>\n",
       "      <td>14</td>\n",
       "    </tr>\n",
       "    <tr>\n",
       "      <th>2021-03-29</th>\n",
       "      <td>34</td>\n",
       "    </tr>\n",
       "    <tr>\n",
       "      <th>2021-04-05</th>\n",
       "      <td>135</td>\n",
       "    </tr>\n",
       "    <tr>\n",
       "      <th>2021-04-12</th>\n",
       "      <td>30</td>\n",
       "    </tr>\n",
       "    <tr>\n",
       "      <th>2021-04-19</th>\n",
       "      <td>6</td>\n",
       "    </tr>\n",
       "    <tr>\n",
       "      <th>2021-04-26</th>\n",
       "      <td>23</td>\n",
       "    </tr>\n",
       "    <tr>\n",
       "      <th>2021-05-03</th>\n",
       "      <td>11</td>\n",
       "    </tr>\n",
       "    <tr>\n",
       "      <th>2021-05-10</th>\n",
       "      <td>4</td>\n",
       "    </tr>\n",
       "    <tr>\n",
       "      <th>2021-05-17</th>\n",
       "      <td>13</td>\n",
       "    </tr>\n",
       "    <tr>\n",
       "      <th>2021-05-24</th>\n",
       "      <td>16</td>\n",
       "    </tr>\n",
       "    <tr>\n",
       "      <th>2021-05-31</th>\n",
       "      <td>6</td>\n",
       "    </tr>\n",
       "    <tr>\n",
       "      <th>2021-06-07</th>\n",
       "      <td>2</td>\n",
       "    </tr>\n",
       "    <tr>\n",
       "      <th>2021-06-14</th>\n",
       "      <td>8</td>\n",
       "    </tr>\n",
       "    <tr>\n",
       "      <th>2021-06-21</th>\n",
       "      <td>20</td>\n",
       "    </tr>\n",
       "    <tr>\n",
       "      <th>2021-06-28</th>\n",
       "      <td>30</td>\n",
       "    </tr>\n",
       "  </tbody>\n",
       "</table>\n",
       "</div>"
      ],
      "text/plain": [
       "            count\n",
       "date             \n",
       "2021-02-01     43\n",
       "2021-02-08     29\n",
       "2021-02-15     53\n",
       "2021-02-22     18\n",
       "2021-03-01     30\n",
       "2021-03-08     37\n",
       "2021-03-15     45\n",
       "2021-03-22     14\n",
       "2021-03-29     34\n",
       "2021-04-05    135\n",
       "2021-04-12     30\n",
       "2021-04-19      6\n",
       "2021-04-26     23\n",
       "2021-05-03     11\n",
       "2021-05-10      4\n",
       "2021-05-17     13\n",
       "2021-05-24     16\n",
       "2021-05-31      6\n",
       "2021-06-07      2\n",
       "2021-06-14      8\n",
       "2021-06-21     20\n",
       "2021-06-28     30"
      ]
     },
     "execution_count": 21,
     "metadata": {},
     "output_type": "execute_result"
    }
   ],
   "source": [
    "df_user1_weekly_train_feb_jun"
   ]
  },
  {
   "cell_type": "code",
   "execution_count": 56,
   "metadata": {},
   "outputs": [],
   "source": [
    "df_user1_weekly_test_jul_aug = df_user1_weekly.loc['2021-07-18':'2021-08-29']"
   ]
  },
  {
   "cell_type": "code",
   "execution_count": 57,
   "metadata": {},
   "outputs": [
    {
     "data": {
      "text/html": [
       "<div>\n",
       "<style scoped>\n",
       "    .dataframe tbody tr th:only-of-type {\n",
       "        vertical-align: middle;\n",
       "    }\n",
       "\n",
       "    .dataframe tbody tr th {\n",
       "        vertical-align: top;\n",
       "    }\n",
       "\n",
       "    .dataframe thead th {\n",
       "        text-align: right;\n",
       "    }\n",
       "</style>\n",
       "<table border=\"1\" class=\"dataframe\">\n",
       "  <thead>\n",
       "    <tr style=\"text-align: right;\">\n",
       "      <th></th>\n",
       "      <th>count</th>\n",
       "    </tr>\n",
       "    <tr>\n",
       "      <th>date</th>\n",
       "      <th></th>\n",
       "    </tr>\n",
       "  </thead>\n",
       "  <tbody>\n",
       "    <tr>\n",
       "      <th>2021-07-19</th>\n",
       "      <td>10</td>\n",
       "    </tr>\n",
       "    <tr>\n",
       "      <th>2021-07-26</th>\n",
       "      <td>8</td>\n",
       "    </tr>\n",
       "    <tr>\n",
       "      <th>2021-08-02</th>\n",
       "      <td>25</td>\n",
       "    </tr>\n",
       "    <tr>\n",
       "      <th>2021-08-09</th>\n",
       "      <td>32</td>\n",
       "    </tr>\n",
       "    <tr>\n",
       "      <th>2021-08-16</th>\n",
       "      <td>8</td>\n",
       "    </tr>\n",
       "    <tr>\n",
       "      <th>2021-08-23</th>\n",
       "      <td>14</td>\n",
       "    </tr>\n",
       "  </tbody>\n",
       "</table>\n",
       "</div>"
      ],
      "text/plain": [
       "            count\n",
       "date             \n",
       "2021-07-19     10\n",
       "2021-07-26      8\n",
       "2021-08-02     25\n",
       "2021-08-09     32\n",
       "2021-08-16      8\n",
       "2021-08-23     14"
      ]
     },
     "execution_count": 57,
     "metadata": {},
     "output_type": "execute_result"
    }
   ],
   "source": [
    "df_user1_weekly_test_jul_aug"
   ]
  },
  {
   "cell_type": "code",
   "execution_count": null,
   "metadata": {},
   "outputs": [],
   "source": [
    "# EXAMPLE from\n",
    "# https://towardsdatascience.com/hypothesis-testing-in-machine-learning-using-python-a0dc89e169ce\n",
    "# DO NOT Execute\n",
    "\n",
    "from scipy.stats import ttest_ind\n",
    "import numpy as np\n",
    "week1 = np.genfromtxt(\"week1.csv\",  delimiter=\",\")\n",
    "week2 = np.genfromtxt(\"week2.csv\",  delimiter=\",\")\n",
    "print(week1)\n",
    "print(\"week2 data :-\\n\")\n",
    "print(week2)\n",
    "week1_mean = np.mean(week1)\n",
    "week2_mean = np.mean(week2)\n",
    "print(\"week1 mean value:\",week1_mean)\n",
    "print(\"week2 mean value:\",week2_mean)\n",
    "week1_std = np.std(week1)\n",
    "week2_std = np.std(week2)\n",
    "print(\"week1 std value:\",week1_std)\n",
    "print(\"week2 std value:\",week2_std)\n",
    "ttest,pval = ttest_ind(week1,week2)\n",
    "print(\"p-value\",pval)\n",
    "if pval <0.05:\n",
    "  print(\"we reject null hypothesis\")\n",
    "else:\n",
    "  print(\"we accept null hypothesis\")"
   ]
  },
  {
   "cell_type": "code",
   "execution_count": 58,
   "metadata": {},
   "outputs": [],
   "source": [
    "test_data_user1 = df_user1_weekly_test_jul_aug[\"count\"].to_numpy()"
   ]
  },
  {
   "cell_type": "code",
   "execution_count": 59,
   "metadata": {},
   "outputs": [
    {
     "data": {
      "text/plain": [
       "array([10,  8, 25, 32,  8, 14])"
      ]
     },
     "execution_count": 59,
     "metadata": {},
     "output_type": "execute_result"
    }
   ],
   "source": [
    "test_data_user1"
   ]
  },
  {
   "cell_type": "code",
   "execution_count": 60,
   "metadata": {},
   "outputs": [],
   "source": [
    "train_data_user1 = df_user1_weekly_train_feb_jun[\"count\"].to_numpy()"
   ]
  },
  {
   "cell_type": "code",
   "execution_count": 61,
   "metadata": {},
   "outputs": [
    {
     "name": "stdout",
     "output_type": "stream",
     "text": [
      "week1 mean value: 27.59090909090909\n",
      "week2 mean value: 16.166666666666668\n",
      "week1 std value: 27.284126405641217\n",
      "week2 std value: 9.172725270544674\n",
      "p-value 0.3393059429836499\n"
     ]
    }
   ],
   "source": [
    "train_mean = np.mean(train_data_user1)\n",
    "test_mean = np.mean(test_data_user1)\n",
    "print(\"week1 mean value:\",train_mean)\n",
    "print(\"week2 mean value:\",test_mean)\n",
    "train_std = np.std(train_data_user1)\n",
    "test_std = np.std(test_data_user1)\n",
    "print(\"week1 std value:\",train_std)\n",
    "print(\"week2 std value:\",test_std)\n",
    "ttest,pval = ttest_ind(train_data_user1,test_data_user1)\n",
    "print(\"p-value\",pval)\n",
    "# if pval <0.05:"
   ]
  },
  {
   "cell_type": "code",
   "execution_count": null,
   "metadata": {},
   "outputs": [],
   "source": [
    "# reference one tailed p value:\n",
    "#https://stackoverflow.com/questions/15984221/how-to-perform-two-sample-one-tailed-t-test-with-numpy-scipy"
   ]
  },
  {
   "cell_type": "code",
   "execution_count": null,
   "metadata": {},
   "outputs": [],
   "source": [
    "p_values = []"
   ]
  },
  {
   "cell_type": "code",
   "execution_count": null,
   "metadata": {},
   "outputs": [],
   "source": []
  },
  {
   "cell_type": "code",
   "execution_count": null,
   "metadata": {},
   "outputs": [],
   "source": [
    "# the entire company"
   ]
  },
  {
   "cell_type": "code",
   "execution_count": 62,
   "metadata": {},
   "outputs": [],
   "source": [
    "df_grouped_date = df.groupby('date', as_index=False).sum()"
   ]
  },
  {
   "cell_type": "code",
   "execution_count": 63,
   "metadata": {},
   "outputs": [],
   "source": [
    "df_grouped_date_weekly = df_grouped_date.resample('W-MON', on='date').sum()"
   ]
  },
  {
   "cell_type": "code",
   "execution_count": 64,
   "metadata": {},
   "outputs": [
    {
     "data": {
      "image/png": "[encoded data removed]",
      "text/plain": [
       "<Figure size 432x288 with 1 Axes>"
      ]
     },
     "metadata": {},
     "output_type": "display_data"
    }
   ],
   "source": [
    "all_barplot_weekly = sns.barplot(x =df_grouped_date_weekly.index, y = \"count\", data = df_grouped_date_weekly, color='b')\n",
    "plt.xticks(rotation=90)\n",
    "\n",
    "all_barplot_weekly.xaxis.set_major_locator(mdates.DayLocator(interval=4))\n",
    "\n",
    "plt.show()"
   ]
  },
  {
   "cell_type": "code",
   "execution_count": 65,
   "metadata": {},
   "outputs": [],
   "source": [
    "df_grouped_date_monthly = df_grouped_date.resample('M', on='date').sum()"
   ]
  },
  {
   "cell_type": "code",
   "execution_count": 66,
   "metadata": {},
   "outputs": [
    {
     "data": {
      "image/png": "[encoded data removed]",
      "text/plain": [
       "<Figure size 432x288 with 1 Axes>"
      ]
     },
     "metadata": {},
     "output_type": "display_data"
    }
   ],
   "source": [
    "all_barplot_monthly = sns.barplot(x =df_grouped_date_monthly.index, y = \"count\", data = df_grouped_date_monthly, color='b')\n",
    "plt.xticks(rotation=90)\n",
    "\n",
    "plt.show()"
   ]
  },
  {
   "cell_type": "code",
   "execution_count": 67,
   "metadata": {},
   "outputs": [],
   "source": [
    "df_all_users_weekly_train_feb_jun = df_grouped_date_weekly.loc['2021-02-01':'2021-06-30']"
   ]
  },
  {
   "cell_type": "code",
   "execution_count": 68,
   "metadata": {},
   "outputs": [],
   "source": [
    "df_all_users_weekly_test_jul_aug = df_grouped_date_weekly.loc['2021-07-18':'2021-08-29']"
   ]
  },
  {
   "cell_type": "code",
   "execution_count": 69,
   "metadata": {},
   "outputs": [],
   "source": [
    "test_data_all_users = df_all_users_weekly_test_jul_aug[\"count\"].to_numpy()"
   ]
  },
  {
   "cell_type": "code",
   "execution_count": 70,
   "metadata": {},
   "outputs": [
    {
     "data": {
      "text/plain": [
       "array([ 8708, 10393,  9091, 10495,  9159,  8787])"
      ]
     },
     "execution_count": 70,
     "metadata": {},
     "output_type": "execute_result"
    }
   ],
   "source": [
    "test_data_all_users"
   ]
  },
  {
   "cell_type": "code",
   "execution_count": 71,
   "metadata": {},
   "outputs": [],
   "source": [
    "train_data_all_users = df_all_users_weekly_train_feb_jun[\"count\"].to_numpy()"
   ]
  },
  {
   "cell_type": "code",
   "execution_count": 73,
   "metadata": {},
   "outputs": [
    {
     "name": "stdout",
     "output_type": "stream",
     "text": [
      "train mean value: 9723.59090909091\n",
      "test mean value: 9438.833333333334\n",
      "train std value: 1120.6577070100361\n",
      "test std value: 728.4939754193045\n",
      "p-value 0.5749503919149499\n"
     ]
    }
   ],
   "source": [
    "train_mean_all_users = np.mean(train_data_all_users)\n",
    "test_mean_all_users = np.mean(test_data_all_users)\n",
    "print(\"train mean value:\",train_mean_all_users)\n",
    "print(\"test mean value:\",test_mean_all_users)\n",
    "train_std_all_users = np.std(train_data_all_users)\n",
    "test_std_all_users = np.std(test_data_all_users)\n",
    "print(\"train std value:\",train_std_all_users)\n",
    "print(\"test std value:\",test_std_all_users)\n",
    "ttest,pval = ttest_ind(train_data_all_users,test_data_all_users)\n",
    "print(\"p-value\",pval)\n",
    "# if pval <0.05:"
   ]
  },
  {
   "cell_type": "code",
   "execution_count": 74,
   "metadata": {},
   "outputs": [
    {
     "name": "stdout",
     "output_type": "stream",
     "text": [
      "accept null hypothesis\n"
     ]
    }
   ],
   "source": [
    "if pval<0.10:\n",
    "    print(\"reject null hypothesis\")\n",
    "else:\n",
    "    print(\"accept null hypothesis\")"
   ]
  },
  {
   "cell_type": "code",
   "execution_count": null,
   "metadata": {},
   "outputs": [],
   "source": []
  },
  {
   "cell_type": "code",
   "execution_count": 71,
   "metadata": {},
   "outputs": [
    {
     "data": {
      "text/plain": [
       "0.5679365291383107"
      ]
     },
     "execution_count": 71,
     "metadata": {},
     "output_type": "execute_result"
    }
   ],
   "source": [
    "ttest"
   ]
  },
  {
   "cell_type": "code",
   "execution_count": 80,
   "metadata": {},
   "outputs": [
    {
     "name": "stdout",
     "output_type": "stream",
     "text": [
      "258\n"
     ]
    }
   ],
   "source": [
    "# There are total of how many users:\n",
    "usernames = df['username'].unique()\n",
    "print(len(user_names))"
   ]
  },
  {
   "cell_type": "markdown",
   "metadata": {},
   "source": [
    "The p-value is not under 10%. Therefore we have to accept the null hypothesis, the two populations are not different. Thus, for the entire population of 258 users, overall were just as productive during the 4 day week, as they were during a 5 day week."
   ]
  },
  {
   "cell_type": "markdown",
   "metadata": {},
   "source": [
    "Now let's do the p-test for each user individually. "
   ]
  },
  {
   "cell_type": "code",
   "execution_count": 84,
   "metadata": {},
   "outputs": [
    {
     "name": "stdout",
     "output_type": "stream",
     "text": [
      "p-value 0.06793609841192479\n",
      "p-value 0.18895341652714795\n",
      "p-value 0.00656138223024151\n",
      "p-value 0.5811229462781269\n",
      "p-value 0.31610665435736945\n",
      "p-value 0.0045719532337108295\n",
      "p-value nan\n",
      "p-value 0.3393188233197587\n",
      "p-value 0.20731247521607268\n",
      "p-value 0.08777184834935091\n",
      "p-value 0.018512089674248448\n",
      "p-value 0.021199178047173778\n",
      "p-value 0.0036402271828400693\n",
      "p-value 0.2189940948347038\n",
      "p-value 0.8180654432793493\n",
      "p-value 0.3230912454945669\n",
      "p-value 0.2799492572590741\n",
      "p-value 0.16562412084860056\n",
      "p-value nan\n",
      "p-value 0.47217652347229044\n",
      "p-value 0.11397316167414369\n",
      "p-value 0.42317661506327064\n",
      "p-value 0.5395842118011456\n",
      "p-value 0.29416758911044727\n",
      "p-value 0.37595330405041516\n",
      "p-value 0.6147227184244493\n",
      "p-value 0.5221655175057582\n",
      "p-value 0.2043527480436863\n",
      "p-value 0.008050359609932497\n",
      "p-value 0.018304599349191902\n",
      "p-value 0.6642010241079394\n",
      "p-value 0.2324671239693723\n",
      "p-value 0.14752705064185528\n",
      "p-value 0.6099766846530851\n",
      "p-value 0.244723938505094\n",
      "p-value 0.4814379652288645\n",
      "p-value 0.5147063726477477\n",
      "p-value 0.045705716670913145\n",
      "p-value 0.08083264485142981\n",
      "p-value 0.829566084603048\n",
      "p-value 0.5466266737724652\n",
      "p-value 0.28441226028004163\n",
      "p-value 0.25811914024789834\n",
      "p-value nan\n",
      "p-value 0.8050862978414327\n",
      "p-value 0.20163764565755934\n",
      "p-value 0.036713513768172806\n",
      "p-value 0.4222524322617983\n",
      "p-value 0.10942897571043159\n",
      "p-value 0.7740836735781543\n",
      "p-value nan\n",
      "p-value 0.2375978390384564\n",
      "p-value 0.050764250831320856\n",
      "p-value 0.29256445067025894\n",
      "p-value 1.4941689102615664e-06\n",
      "p-value 0.4197054754993853\n",
      "p-value 0.11270162661341988\n",
      "p-value 0.47006666459259605\n",
      "p-value 0.17793097742869732\n",
      "p-value 0.6929362601655991\n",
      "p-value 0.055116113943704075\n",
      "p-value 0.3176054477142678\n",
      "p-value 0.8427580759878657\n",
      "p-value 0.11884293520041278\n",
      "p-value 0.7118384487039593\n",
      "p-value 0.1937339097495326\n",
      "p-value 0.003680539900346508\n",
      "p-value 0.2577289881596704\n",
      "p-value 0.3499234585624311\n",
      "p-value 0.00613002120538669\n",
      "p-value 0.7748912955384902\n",
      "p-value 0.5503164559772651\n",
      "p-value 0.13319234504761288\n",
      "p-value 0.05725182721831619\n",
      "p-value 0.6119298392168874\n",
      "p-value 1.3269149613836146e-06\n",
      "p-value 0.05448071706562183\n",
      "p-value 0.004975921971607135\n",
      "p-value 0.4099537135794671\n",
      "p-value 0.4390587215519006\n",
      "p-value 0.18184736428133738\n",
      "p-value 0.39095890823349577\n",
      "p-value nan\n",
      "p-value 0.550664342916867\n",
      "p-value 0.03730490641399563\n",
      "p-value 0.08229942486458461\n",
      "p-value 0.3964769486826557\n",
      "p-value 0.09551437151479422\n",
      "p-value 0.04213827946636515\n",
      "p-value 0.8763202622744537\n",
      "p-value 0.8463826501882386\n",
      "p-value 0.23671392492529597\n",
      "p-value 0.030073439815405955\n",
      "p-value 0.4094745302370696\n",
      "p-value 0.4410921471670276\n",
      "p-value 0.7038855780185638\n",
      "p-value 0.34114325868913764\n",
      "p-value 0.4536308023863228\n",
      "p-value 0.5265562148083478\n",
      "p-value 0.028108025976575454\n",
      "p-value 0.20138539484424656\n",
      "p-value 0.0022943248807861276\n",
      "p-value 0.607734360262275\n",
      "p-value 0.00657735633752842\n",
      "p-value 0.36956406337476677\n",
      "p-value 0.012503983664365554\n",
      "p-value 0.18518071396348043\n",
      "p-value 0.8426361108573421\n",
      "p-value nan\n",
      "p-value 0.02614951682610922\n",
      "p-value 0.04176133280021912\n",
      "p-value 0.0034222914828042975\n",
      "p-value 2.080338076316147e-05\n",
      "p-value 0.042725998115103976\n",
      "p-value 0.03199686150604101\n",
      "p-value 0.011441552327206918\n",
      "p-value 0.2536454641076268\n",
      "p-value 0.2916720589154866\n",
      "p-value 0.7250541488322639\n",
      "p-value 0.044902801455321245\n",
      "p-value 0.03552579166432817\n",
      "p-value 0.025590986803846975\n",
      "p-value 0.008672337488846193\n",
      "p-value 0.6930666676244792\n",
      "p-value 0.2124360650842817\n",
      "p-value 0.041039818272337915\n",
      "p-value 0.7947730836952156\n",
      "p-value 0.18167158461370878\n",
      "p-value 0.146945753109195\n",
      "p-value 0.3902618855426261\n",
      "p-value 2.6967827415594957e-08\n",
      "p-value 0.0249122892047668\n",
      "p-value 0.00024148014109104144\n",
      "p-value 0.8397556223359913\n",
      "p-value 0.39128278111876746\n",
      "p-value 0.21209876813171624\n",
      "p-value 0.7508358458322216\n",
      "p-value 0.6615773452272056\n",
      "p-value 0.5842883083162544\n",
      "p-value 0.09793266077354056\n",
      "p-value 0.6599642770064196\n",
      "p-value 0.3080706024403977\n",
      "p-value 0.1260192126342533\n",
      "p-value 0.2642433574879426\n",
      "p-value 0.02809505755208066\n",
      "p-value 0.5212831365021466\n",
      "p-value 0.8100460511772517\n",
      "p-value 0.03288657695076013\n",
      "p-value 0.7118297642431421\n",
      "p-value 0.08968475164880932\n",
      "p-value 0.219900028046104\n",
      "p-value 0.08073551265375795\n",
      "p-value 0.07936506121830973\n",
      "p-value 0.2358336832005285\n",
      "p-value 0.19626572540136905\n",
      "p-value 0.02011323535530382\n",
      "p-value 0.06463550741758661\n",
      "p-value 0.5291317207884514\n",
      "p-value 0.09102035118498603\n",
      "p-value 0.271910223175066\n",
      "p-value 0.2704488651248045\n",
      "p-value 0.03213179785684742\n",
      "p-value 0.3317606631306438\n",
      "p-value 9.819208360752482e-05\n",
      "p-value 0.17799029510454456\n",
      "p-value 0.19015447913519046\n",
      "p-value 0.01869209747186468\n",
      "p-value 0.010420109953894809\n",
      "p-value 0.41387003677946144\n",
      "p-value 0.7600725308101174\n",
      "p-value 2.858912393803614e-05\n",
      "p-value 0.27430615015574006\n",
      "p-value 0.08976993950834501\n",
      "p-value 0.4798985824314179\n",
      "p-value 0.48245073791179227\n",
      "p-value 0.48020473553686205\n",
      "p-value 0.3581884569615028\n",
      "p-value 0.2612977738650584\n",
      "p-value 0.4325422867971499\n",
      "p-value 0.2406274224407151\n",
      "p-value 0.015142279666869634\n",
      "p-value 0.014401829268743168\n",
      "p-value 0.004218170285140632\n",
      "p-value 0.754466659420394\n",
      "p-value 0.1026370681611797\n",
      "p-value 0.11686473942359683\n",
      "p-value 0.4068523514682719\n",
      "p-value 0.00022079294438448778\n",
      "p-value 0.4056304112127861\n",
      "p-value 0.8086711441429209\n",
      "p-value 0.9390663528575799\n",
      "p-value 0.17326803227238946\n",
      "p-value 0.05694922327523584\n",
      "p-value 0.21255396001422563\n",
      "p-value 0.7777177281011087\n",
      "p-value 0.5927360907921279\n",
      "p-value 2.5764848913386875e-05\n",
      "p-value 4.69819249875918e-07\n",
      "p-value 0.15602454166614507\n",
      "p-value 0.43580870948227735\n",
      "p-value 0.15654282549105142\n",
      "p-value 0.003850370828604094\n",
      "p-value 0.0015094698516067684\n",
      "p-value 0.4645334763756228\n",
      "p-value 0.75590874455322\n",
      "p-value 0.03902278637513329\n",
      "p-value 0.06469270342812235\n",
      "p-value 0.0017436978863500786\n",
      "p-value 0.5095512560869895\n",
      "p-value 0.8322110004178412\n",
      "p-value 0.5514968795718637\n",
      "p-value 0.2070297433840817\n",
      "p-value 0.007370757770566712\n",
      "p-value 0.0010115101123430513\n",
      "p-value 0.656940502219389\n",
      "p-value 0.7363618771638749\n",
      "p-value 0.3038346198047953\n",
      "p-value 0.6255533444804922\n",
      "p-value 0.9019997194822469\n",
      "p-value 0.03513614978956232\n",
      "p-value 0.7364988582811431\n",
      "p-value 0.4068365959429061\n",
      "p-value 0.3527537733681154\n",
      "p-value 0.11830558857259342\n",
      "p-value 0.02825064764245385\n",
      "p-value 0.20773973124622136\n",
      "p-value 0.44813754250370463\n",
      "p-value 0.6202744587847666\n",
      "p-value 0.8700764935721452\n",
      "p-value 0.355601429826474\n",
      "p-value 0.31249051970040004\n",
      "p-value 0.029853221498582272\n",
      "p-value 0.7980623752365401\n",
      "p-value 0.18274661508865486\n",
      "p-value 0.030997860636850755\n",
      "p-value 0.09202137810121169\n",
      "p-value 0.0031467619037638104\n",
      "p-value 0.010818424400605505\n",
      "p-value 0.4716472617291235\n",
      "p-value 0.24260703279269738\n",
      "p-value 0.8015441928377602\n",
      "p-value 0.9707383277777968\n",
      "p-value 0.02525091563295858\n",
      "p-value 0.07824190019856318\n",
      "p-value 0.4396842792985798\n",
      "p-value 0.026598445183490454\n",
      "p-value 0.3447272555565294\n",
      "p-value 0.4755358327441216\n",
      "p-value 0.6615210781842795\n",
      "p-value 0.30354627610623186\n",
      "p-value 0.40419127584769154\n",
      "p-value 0.6255533444804922\n",
      "p-value 0.3184150505567999\n",
      "p-value 0.09353836064321484\n",
      "p-value 0.9689892176980202\n",
      "p-value 0.6828531540120226\n",
      "p-value 0.594825873437085\n",
      "p-value 0.2246386986692454\n"
     ]
    }
   ],
   "source": [
    "p_values = []\n",
    "for username in usernames:\n",
    "    df_user = df.loc[df['username'] == username]\n",
    "    df_user_weekly = df_user.resample('W-MON', on='date').sum()\n",
    "    # for individual users drop weeks that had less than 3 contributions. Person most likely on vacation\n",
    "    df_user_weekly_over2 = df_user_weekly[df_user1_weekly['count'] > 2]\n",
    "    df_user_weekly_train_jan_jun = df_user_weekly_over2.loc['2021-01-10':'2021-06-30']\n",
    "    df_user_weekly_test_jul_aug = df_user_weekly_over2.loc['2021-07-18':'2021-08-29']\n",
    "    \n",
    "    train_data_user = df_user_weekly_train_jan_jun[\"count\"].to_numpy()\n",
    "    test_data_user = df_user_weekly_test_jul_aug[\"count\"].to_numpy()\n",
    "    \n",
    "    # P Test and other statistics\n",
    "    ttest_user,pval_user = ttest_ind(train_data_user,test_data_user)\n",
    "    print(\"p-value\",pval_user)\n",
    "    p_values.append(pval_user)"
   ]
  },
  {
   "cell_type": "code",
   "execution_count": 87,
   "metadata": {},
   "outputs": [],
   "source": [
    "users_no_impact_on_productivity = 0\n",
    "users_with_impact_on_productivity = 0\n",
    "for p in p_values:\n",
    "    if p<0.10:\n",
    "        users_with_impact_on_productivity +=1\n",
    "    else:\n",
    "        users_no_impact_on_productivity +=1"
   ]
  },
  {
   "cell_type": "code",
   "execution_count": 88,
   "metadata": {},
   "outputs": [
    {
     "name": "stdout",
     "output_type": "stream",
     "text": [
      "No impact to productivity: 173\n",
      "Had impact on productivity: 85\n"
     ]
    }
   ],
   "source": [
    "# So number of users whose productivity was or was not impacted is as following:\n",
    "print(f'No impact to productivity: {users_no_impact_on_productivity}')\n",
    "print(f'Had impact on productivity: {users_with_impact_on_productivity}')"
   ]
  },
  {
   "cell_type": "code",
   "execution_count": null,
   "metadata": {},
   "outputs": [],
   "source": [
    "# EXAMPLE of pichart - do not execute\n",
    "# from: https://matplotlib.org/stable/gallery/pie_and_polar_charts/pie_features.html\n",
    "import matplotlib.pyplot as plt\n",
    "\n",
    "# Pie chart, where the slices will be ordered and plotted counter-clockwise:\n",
    "labels = 'Frogs', 'Hogs', 'Dogs', 'Logs'\n",
    "sizes = [15, 30, 45, 10]\n",
    "explode = (0, 0.1, 0, 0)  # only \"explode\" the 2nd slice (i.e. 'Hogs')\n",
    "\n",
    "fig1, ax1 = plt.subplots()\n",
    "ax1.pie(sizes, explode=explode, labels=labels, autopct='%1.1f%%',\n",
    "        shadow=True, startangle=90)\n",
    "ax1.axis('equal')  # Equal aspect ratio ensures that pie is drawn as a circle.\n",
    "\n",
    "plt.show()\n"
   ]
  },
  {
   "cell_type": "code",
   "execution_count": 90,
   "metadata": {},
   "outputs": [
    {
     "data": {
      "image/png": "[encoded data removed]",
      "text/plain": [
       "<Figure size 432x288 with 1 Axes>"
      ]
     },
     "metadata": {},
     "output_type": "display_data"
    }
   ],
   "source": [
    "# Threshold for p to 0.1, checking impact on productivity.\n",
    "\n",
    "import matplotlib.pyplot as plt\n",
    "\n",
    "# Pie chart, where the slices will be ordered and plotted counter-clockwise:\n",
    "labels = 'No Impact on productivity', 'Adverse Impact on Productivity'\n",
    "sizes = [users_no_impact_on_productivity, users_with_impact_on_productivity]\n",
    "explode = (0.1, 0)  # only \"explode\" the no impact on productivity\n",
    "\n",
    "fig1, ax1 = plt.subplots()\n",
    "ax1.pie(sizes, explode=explode, labels=labels, autopct='%1.1f%%',\n",
    "        shadow=True, startangle=90)\n",
    "ax1.axis('equal')  # Equal aspect ratio ensures that pie is drawn as a circle.\n",
    "\n",
    "plt.title('4 Day workweek impact on producitivy by number employees, p = 0.1')\n",
    "\n",
    "plt.show()"
   ]
  },
  {
   "cell_type": "code",
   "execution_count": 93,
   "metadata": {},
   "outputs": [
    {
     "data": {
      "image/png": "[encoded data removed]",
      "text/plain": [
       "<Figure size 432x288 with 1 Axes>"
      ]
     },
     "metadata": {},
     "output_type": "display_data"
    }
   ],
   "source": [
    "# If we set threshold for p to 0.05\n",
    "\n",
    "users_no_impact_on_productivity_05 = 0\n",
    "users_with_impact_on_productivity_05 = 0\n",
    "for p in p_values:\n",
    "    if p<0.05:\n",
    "        users_with_impact_on_productivity_05 +=1\n",
    "    else:\n",
    "        users_no_impact_on_productivity_05 +=1\n",
    "        \n",
    "# Pie chart\n",
    "labels = 'No Impact on productivity', 'Adverse Impact on Productivity'\n",
    "sizes = [users_no_impact_on_productivity_05, users_with_impact_on_productivity_05]\n",
    "explode = (0.1, 0)  # only \"explode\" the no impact on productivity\n",
    "\n",
    "fig1, ax1 = plt.subplots()\n",
    "ax1.pie(sizes, explode=explode, labels=labels, autopct='%1.1f%%',\n",
    "        shadow=True, startangle=90)\n",
    "ax1.axis('equal')  # Equal aspect ratio ensures that pie is drawn as a circle.\n",
    "\n",
    "plt.title('4 Day workweek impact on producitivy by number employees, p = 0.05')\n",
    "\n",
    "plt.show()"
   ]
  },
  {
   "cell_type": "code",
   "execution_count": null,
   "metadata": {},
   "outputs": [],
   "source": []
  },
  {
   "cell_type": "markdown",
   "metadata": {},
   "source": [
    "### AREMA Time Series ML"
   ]
  },
  {
   "cell_type": "code",
   "execution_count": null,
   "metadata": {},
   "outputs": [],
   "source": []
  },
  {
   "cell_type": "code",
   "execution_count": null,
   "metadata": {},
   "outputs": [],
   "source": []
  }
 ],
 "metadata": {
  "kernelspec": {
   "display_name": "Python 3 (ipykernel)",
   "language": "python",
   "name": "python3"
  },
  "language_info": {
   "codemirror_mode": {
    "name": "ipython",
    "version": 3
   },
   "file_extension": ".py",
   "mimetype": "text/x-python",
   "name": "python",
   "nbconvert_exporter": "python",
   "pygments_lexer": "ipython3",
   "version": "3.9.7"
  }
 },
 "nbformat": 4,
 "nbformat_minor": 4
}
